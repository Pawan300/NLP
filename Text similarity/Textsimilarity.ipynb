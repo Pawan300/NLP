{
  "nbformat": 4,
  "nbformat_minor": 0,
  "metadata": {
    "colab": {
      "name": "Textsimilarity.ipynb",
      "provenance": [],
      "collapsed_sections": []
    },
    "kernelspec": {
      "name": "python3",
      "display_name": "Python 3"
    },
    "accelerator": "TPU"
  },
  "cells": [
    {
      "cell_type": "markdown",
      "metadata": {
        "id": "nhYxp_dzZRzL"
      },
      "source": [
        "# Notebook on Semantic Similarity "
      ]
    },
    {
      "cell_type": "markdown",
      "metadata": {
        "id": "ieyK2zcOZnSf"
      },
      "source": [
        "Natural Language Processing (NLP) is one of the key components in Artificial Intelligence (AI), which carries the ability to make machines understand human language.<br>\n",
        "Text Similarity is one of the essential techniques of NLP which is being used to find the closeness between two chunks of text by it’s meaning or by surface.<br>\n",
        "\n",
        "![nlp-text-similarityAsset-4.png](data:image/png;base64,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)"
      ]
    },
    {
      "cell_type": "markdown",
      "metadata": {
        "id": "hZvNTwASbA34"
      },
      "source": [
        "In general NLP tasks structured in a following manner :<br>\n",
        "* Collecting Dataset\n",
        "* Preprocessing steps\n",
        "* Creating Word's embedding [Feature Engineering]\n",
        "* Model creation\n",
        "* Model evalutaion\n",
        "* Deployment"
      ]
    },
    {
      "cell_type": "markdown",
      "metadata": {
        "id": "ZSVSxTdwbkLk"
      },
      "source": [
        "So I am going to discuss about the approaches I have tried to complete this task from basics to advance NLP models. <br>[ Please let me walk through my work ]"
      ]
    },
    {
      "cell_type": "markdown",
      "metadata": {
        "id": "vm9jfWnpcAvE"
      },
      "source": [
        "I am using Python for this task : <br>\n",
        "\n",
        "<img src=\"https://www.python.org/static/community_logos/python-logo-master-v3-TM.png\" title=\"Python Logo\" width=\"500\" height=\"100\"/>"
      ]
    },
    {
      "cell_type": "markdown",
      "metadata": {
        "id": "Z-Rm_WHPeXw0"
      },
      "source": [
        "Basic approaches are using :\n",
        "* Spacy \n",
        "* Gensim\n",
        "* NLTK"
      ]
    },
    {
      "cell_type": "code",
      "metadata": {
        "id": "fuNJVuyLgdw0"
      },
      "source": [
        "# Install spacy model \n",
        "#!python -m spacy download en_core_web_md"
      ],
      "execution_count": null,
      "outputs": []
    },
    {
      "cell_type": "code",
      "metadata": {
        "id": "z2fXqDFoiQbX"
      },
      "source": [
        "import spacy \n",
        "import pandas as pd\n",
        "from spacy.lang.en.stop_words import STOP_WORDS\n",
        "from spacy.lang.en import English\n",
        "nlp_english = English()\n",
        "nlp = spacy.load('en_core_web_md') "
      ],
      "execution_count": null,
      "outputs": []
    },
    {
      "cell_type": "code",
      "metadata": {
        "id": "35y8aGPMfwA5"
      },
      "source": [
        "# You can replace these two sentences by anything you want ..........\n",
        "sentence1 = nlp_english(\"Reports that the NSA eavesdropped on world leaders have severely shaken relations between Europe and the US German Chancellor Angela Merkel said\")\n",
        "sentence2 = nlp_english(\"Germany and France are to seek talks with the US to settle a row over spying, as espionage claims continue to overshadow an EU summit in Brussels\")\n",
        "\n",
        "tokens1 = [i.text for i in sentence1]\n",
        "tokens2 = [i.text for i in sentence2]\n",
        "\n",
        "def stopword_removal(text):\n",
        "  filtered_sentence =[] \n",
        "  for word in text:\n",
        "      lexeme = nlp_english.vocab[word]\n",
        "      if lexeme.is_stop == False:\n",
        "          filtered_sentence.append(nlp(word)) \n",
        "  return filtered_sentence\n",
        "\n",
        "tokens1 = stopword_removal(tokens1)\n",
        "tokens2 = stopword_removal(tokens2)"
      ],
      "execution_count": null,
      "outputs": []
    },
    {
      "cell_type": "code",
      "metadata": {
        "id": "Lj0wIr91ixXK",
        "outputId": "be760c33-ad9c-47e2-807c-1ccaccc437c4",
        "colab": {
          "base_uri": "https://localhost:8080/",
          "height": 136
        }
      },
      "source": [
        "print(\"Similarity score  : \")\n",
        "score = pd.DataFrame(columns=[\"Token1\", \"Token2\", \"Score\"])\n",
        "for i,j in zip(tokens1, tokens2):\n",
        "    score = score.append({\"Token1\": i[0], \"Token2\": j[0], \"Score\": i.similarity(j)}, ignore_index = True)\n",
        "print(score.head())"
      ],
      "execution_count": null,
      "outputs": [
        {
          "output_type": "stream",
          "text": [
            "Similarity score  : \n",
            "         Token1   Token2     Score\n",
            "0       Reports  Germany  0.028611\n",
            "1           NSA   France  0.150249\n",
            "2  eavesdropped     seek  0.006154\n",
            "3         world    talks  0.324193\n",
            "4       leaders   settle  0.261939\n"
          ],
          "name": "stdout"
        }
      ]
    },
    {
      "cell_type": "markdown",
      "metadata": {
        "id": "nBuEZbkfp_UA"
      },
      "source": [
        "Similarly you can do this using Gensim, NLTK library as well.<br>\n",
        "For this approach to work you can use any type of embeddings, well known embeddings are :\n",
        "* Bag of Words\n",
        "* TF-IDF\n",
        "* Word2vec \n",
        "* Doc2vec <br>\n",
        "\n",
        "For more detail you can refer [this blog](https://dev.to/coderasha/compare-documents-similarity-using-python-nlp-4odp)."
      ]
    },
    {
      "cell_type": "markdown",
      "metadata": {
        "id": "SkB2HdMPrELv"
      },
      "source": [
        "## Problem with this approach <br>\n",
        "They are working fine with the unigram model but when we are concerned about context or the meaning of the sentences they fail to capture those. So we move towards some deep learning approaches or papers that help us to create our models to tackle this problem.\n",
        "<br>\n",
        "\n",
        "## Approaches I tried (dataset I used [Quora-Question-pair](https://www.kaggle.com/c/quora-question-pairs/data)):\n",
        "* Siamese-LSTM network [ [Paper](https://www.researchgate.net/publication/307558687_Siamese_Recurrent_Architectures_for_Learning_Sentence_Similarity) ]  <br> <br>\n",
        "<img src=\"https://cloud.githubusercontent.com/assets/9861437/20479493/6ea8ad12-b004-11e6-89e4-53d4d354d32e.png\" title=\"Python Logo\" width=\"700\" height=\"300\"/>\n",
        "<br>\n",
        "* Bert-Layer architecture by keras [Link](https://keras.io/examples/nlp/text_extraction_with_bert/)<br><br>\n",
        "<img src=\"data:image/png;base64,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\" width=\"700\" height=\"300\">"
      ]
    },
    {
      "cell_type": "markdown",
      "metadata": {
        "id": "5JYfGA9ivMe7"
      },
      "source": [
        "# <strong>I have tried implementing both the architecture :</strong> \n",
        "* For Simaese LSTM : <br>\n",
        "https://github.com/Pawan300/NLP/tree/master/Text%20similarity/Siamese_LSTM\n",
        "* For BERT model : <br> https://github.com/Pawan300/NLP/tree/master/Text%20similarity/Bert_model"
      ]
    },
    {
      "cell_type": "markdown",
      "metadata": {
        "id": "vDFiGN9O3P7o"
      },
      "source": [
        "# Problem with these approaches : \n",
        "\n",
        "* Siamese LSTM : <br>\n",
        "  This is an old technique intoduce in 2015. So it worked fine with the small sentences but incapable of handle large sentences due to lack of attention module.\n",
        "\n",
        "* BERT-layer :<br>\n",
        "  This module is new but requires lots of resources to train your model and come up with your architecture."
      ]
    },
    {
      "cell_type": "markdown",
      "metadata": {
        "id": "y5ySFYI_4GzK"
      },
      "source": [
        "Let me introduce you with the hugging face.<br>\n",
        "<img src=\"https://huggingface.co/favicon.ico\" title=\"Python Logo\" width=\"200\" height=\"200\"/>"
      ]
    },
    {
      "cell_type": "markdown",
      "metadata": {
        "id": "bqqScloX624v"
      },
      "source": [
        "Caution : This is not just an emoji.<img src=\"https://huggingface.co/favicon.ico\" title=\"Python Logo\" width=\"20\" height=\"20\"/>"
      ]
    },
    {
      "cell_type": "markdown",
      "metadata": {
        "id": "LGuM1ssz7rVU"
      },
      "source": [
        "* Who are they?\n",
        "  - Hugging Face is a company which develops social AI-run chatbot applications. It was established in 2016 by Clement Delangue and Julien Chaumond. The company is based in Brooklyn, New York, United States.\n",
        "  - [Website](https://huggingface.co/)\n",
        "\n",
        "* What they do?\n",
        "  - They are on a mission [ Not like a mangal yan or URI attack or demobilize ISIS ] to solve NLP problems.\n",
        "  - Their job is to implement State-of-art models in NLP.\n",
        "\n",
        "* Goal : <br>\n",
        "  - <strong>On a mission to solve NLP,\n",
        "one commit at a time.</strong>"
      ]
    },
    {
      "cell_type": "markdown",
      "metadata": {
        "id": "SogZBV56-eI6"
      },
      "source": [
        "You can find pre-trained models here. https://huggingface.co/models"
      ]
    },
    {
      "cell_type": "markdown",
      "metadata": {
        "id": "HZe1ItDN_DdY"
      },
      "source": [
        "I have tried many models from hugging face library [ They are for the task Text classsification]:\n",
        "* bert-base-uncased\n",
        "* bert-base-cased-finetuned-mrpc\n",
        "* distilbert-base-uncased-finetuned-sst-2-english\n",
        "* distilbert-base-uncased\n",
        "* roberta-large-mnli\n",
        "* joeddav/xlm-roberta-large-xnli\n",
        "* ishan/bert-base-uncased-mnli\n",
        "* textattack/roberta-base-MNLI\n",
        "* distilbert-base-nli-stsb-mean-tokens [This is working better] <br>\n",
        "and some other as well."
      ]
    },
    {
      "cell_type": "markdown",
      "metadata": {
        "id": "RLatCuZEDAY4"
      },
      "source": [
        "Model 1 Demo : "
      ]
    },
    {
      "cell_type": "code",
      "metadata": {
        "id": "8qfDEqpdpqvQ",
        "outputId": "b142ed15-ca27-4100-9d98-1d112dfaedcf",
        "colab": {
          "base_uri": "https://localhost:8080/",
          "height": 802
        }
      },
      "source": [
        "%tensorflow_version 2.x\n",
        "import tensorflow as tf\n",
        "print(\"Tensorflow version \" + tf.__version__)\n",
        "\n",
        "try:\n",
        "  tpu = tf.distribute.cluster_resolver.TPUClusterResolver()  # TPU detection\n",
        "  print('Running on TPU ', tpu.cluster_spec().as_dict()['worker'])\n",
        "except ValueError:\n",
        "  raise BaseException('ERROR: Not connected to a TPU runtime; please see the previous cell in this notebook for instructions!')\n",
        "\n",
        "tf.config.experimental_connect_to_cluster(tpu)\n",
        "tf.tpu.experimental.initialize_tpu_system(tpu)\n",
        "tpu_strategy = tf.distribute.experimental.TPUStrategy(tpu)"
      ],
      "execution_count": null,
      "outputs": [
        {
          "output_type": "stream",
          "text": [
            "Tensorflow version 2.3.0\n",
            "Running on TPU  ['10.112.230.250:8470']\n",
            "WARNING:tensorflow:TPU system grpc://10.112.230.250:8470 has already been initialized. Reinitializing the TPU can cause previously created variables on TPU to be lost.\n"
          ],
          "name": "stdout"
        },
        {
          "output_type": "stream",
          "text": [
            "WARNING:tensorflow:TPU system grpc://10.112.230.250:8470 has already been initialized. Reinitializing the TPU can cause previously created variables on TPU to be lost.\n"
          ],
          "name": "stderr"
        },
        {
          "output_type": "stream",
          "text": [
            "INFO:tensorflow:Initializing the TPU system: grpc://10.112.230.250:8470\n"
          ],
          "name": "stdout"
        },
        {
          "output_type": "stream",
          "text": [
            "INFO:tensorflow:Initializing the TPU system: grpc://10.112.230.250:8470\n"
          ],
          "name": "stderr"
        },
        {
          "output_type": "stream",
          "text": [
            "INFO:tensorflow:Clearing out eager caches\n"
          ],
          "name": "stdout"
        },
        {
          "output_type": "stream",
          "text": [
            "INFO:tensorflow:Clearing out eager caches\n"
          ],
          "name": "stderr"
        },
        {
          "output_type": "stream",
          "text": [
            "INFO:tensorflow:Finished initializing TPU system.\n"
          ],
          "name": "stdout"
        },
        {
          "output_type": "stream",
          "text": [
            "INFO:tensorflow:Finished initializing TPU system.\n",
            "WARNING:absl:`tf.distribute.experimental.TPUStrategy` is deprecated, please use  the non experimental symbol `tf.distribute.TPUStrategy` instead.\n"
          ],
          "name": "stderr"
        },
        {
          "output_type": "stream",
          "text": [
            "INFO:tensorflow:Found TPU system:\n"
          ],
          "name": "stdout"
        },
        {
          "output_type": "stream",
          "text": [
            "INFO:tensorflow:Found TPU system:\n"
          ],
          "name": "stderr"
        },
        {
          "output_type": "stream",
          "text": [
            "INFO:tensorflow:*** Num TPU Cores: 8\n"
          ],
          "name": "stdout"
        },
        {
          "output_type": "stream",
          "text": [
            "INFO:tensorflow:*** Num TPU Cores: 8\n"
          ],
          "name": "stderr"
        },
        {
          "output_type": "stream",
          "text": [
            "INFO:tensorflow:*** Num TPU Workers: 1\n"
          ],
          "name": "stdout"
        },
        {
          "output_type": "stream",
          "text": [
            "INFO:tensorflow:*** Num TPU Workers: 1\n"
          ],
          "name": "stderr"
        },
        {
          "output_type": "stream",
          "text": [
            "INFO:tensorflow:*** Num TPU Cores Per Worker: 8\n"
          ],
          "name": "stdout"
        },
        {
          "output_type": "stream",
          "text": [
            "INFO:tensorflow:*** Num TPU Cores Per Worker: 8\n"
          ],
          "name": "stderr"
        },
        {
          "output_type": "stream",
          "text": [
            "INFO:tensorflow:*** Available Device: _DeviceAttributes(/job:localhost/replica:0/task:0/device:CPU:0, CPU, 0, 0)\n"
          ],
          "name": "stdout"
        },
        {
          "output_type": "stream",
          "text": [
            "INFO:tensorflow:*** Available Device: _DeviceAttributes(/job:localhost/replica:0/task:0/device:CPU:0, CPU, 0, 0)\n"
          ],
          "name": "stderr"
        },
        {
          "output_type": "stream",
          "text": [
            "INFO:tensorflow:*** Available Device: _DeviceAttributes(/job:localhost/replica:0/task:0/device:XLA_CPU:0, XLA_CPU, 0, 0)\n"
          ],
          "name": "stdout"
        },
        {
          "output_type": "stream",
          "text": [
            "INFO:tensorflow:*** Available Device: _DeviceAttributes(/job:localhost/replica:0/task:0/device:XLA_CPU:0, XLA_CPU, 0, 0)\n"
          ],
          "name": "stderr"
        },
        {
          "output_type": "stream",
          "text": [
            "INFO:tensorflow:*** Available Device: _DeviceAttributes(/job:worker/replica:0/task:0/device:CPU:0, CPU, 0, 0)\n"
          ],
          "name": "stdout"
        },
        {
          "output_type": "stream",
          "text": [
            "INFO:tensorflow:*** Available Device: _DeviceAttributes(/job:worker/replica:0/task:0/device:CPU:0, CPU, 0, 0)\n"
          ],
          "name": "stderr"
        },
        {
          "output_type": "stream",
          "text": [
            "INFO:tensorflow:*** Available Device: _DeviceAttributes(/job:worker/replica:0/task:0/device:TPU:0, TPU, 0, 0)\n"
          ],
          "name": "stdout"
        },
        {
          "output_type": "stream",
          "text": [
            "INFO:tensorflow:*** Available Device: _DeviceAttributes(/job:worker/replica:0/task:0/device:TPU:0, TPU, 0, 0)\n"
          ],
          "name": "stderr"
        },
        {
          "output_type": "stream",
          "text": [
            "INFO:tensorflow:*** Available Device: _DeviceAttributes(/job:worker/replica:0/task:0/device:TPU:1, TPU, 0, 0)\n"
          ],
          "name": "stdout"
        },
        {
          "output_type": "stream",
          "text": [
            "INFO:tensorflow:*** Available Device: _DeviceAttributes(/job:worker/replica:0/task:0/device:TPU:1, TPU, 0, 0)\n"
          ],
          "name": "stderr"
        },
        {
          "output_type": "stream",
          "text": [
            "INFO:tensorflow:*** Available Device: _DeviceAttributes(/job:worker/replica:0/task:0/device:TPU:2, TPU, 0, 0)\n"
          ],
          "name": "stdout"
        },
        {
          "output_type": "stream",
          "text": [
            "INFO:tensorflow:*** Available Device: _DeviceAttributes(/job:worker/replica:0/task:0/device:TPU:2, TPU, 0, 0)\n"
          ],
          "name": "stderr"
        },
        {
          "output_type": "stream",
          "text": [
            "INFO:tensorflow:*** Available Device: _DeviceAttributes(/job:worker/replica:0/task:0/device:TPU:3, TPU, 0, 0)\n"
          ],
          "name": "stdout"
        },
        {
          "output_type": "stream",
          "text": [
            "INFO:tensorflow:*** Available Device: _DeviceAttributes(/job:worker/replica:0/task:0/device:TPU:3, TPU, 0, 0)\n"
          ],
          "name": "stderr"
        },
        {
          "output_type": "stream",
          "text": [
            "INFO:tensorflow:*** Available Device: _DeviceAttributes(/job:worker/replica:0/task:0/device:TPU:4, TPU, 0, 0)\n"
          ],
          "name": "stdout"
        },
        {
          "output_type": "stream",
          "text": [
            "INFO:tensorflow:*** Available Device: _DeviceAttributes(/job:worker/replica:0/task:0/device:TPU:4, TPU, 0, 0)\n"
          ],
          "name": "stderr"
        },
        {
          "output_type": "stream",
          "text": [
            "INFO:tensorflow:*** Available Device: _DeviceAttributes(/job:worker/replica:0/task:0/device:TPU:5, TPU, 0, 0)\n"
          ],
          "name": "stdout"
        },
        {
          "output_type": "stream",
          "text": [
            "INFO:tensorflow:*** Available Device: _DeviceAttributes(/job:worker/replica:0/task:0/device:TPU:5, TPU, 0, 0)\n"
          ],
          "name": "stderr"
        },
        {
          "output_type": "stream",
          "text": [
            "INFO:tensorflow:*** Available Device: _DeviceAttributes(/job:worker/replica:0/task:0/device:TPU:6, TPU, 0, 0)\n"
          ],
          "name": "stdout"
        },
        {
          "output_type": "stream",
          "text": [
            "INFO:tensorflow:*** Available Device: _DeviceAttributes(/job:worker/replica:0/task:0/device:TPU:6, TPU, 0, 0)\n"
          ],
          "name": "stderr"
        },
        {
          "output_type": "stream",
          "text": [
            "INFO:tensorflow:*** Available Device: _DeviceAttributes(/job:worker/replica:0/task:0/device:TPU:7, TPU, 0, 0)\n"
          ],
          "name": "stdout"
        },
        {
          "output_type": "stream",
          "text": [
            "INFO:tensorflow:*** Available Device: _DeviceAttributes(/job:worker/replica:0/task:0/device:TPU:7, TPU, 0, 0)\n"
          ],
          "name": "stderr"
        },
        {
          "output_type": "stream",
          "text": [
            "INFO:tensorflow:*** Available Device: _DeviceAttributes(/job:worker/replica:0/task:0/device:TPU_SYSTEM:0, TPU_SYSTEM, 0, 0)\n"
          ],
          "name": "stdout"
        },
        {
          "output_type": "stream",
          "text": [
            "INFO:tensorflow:*** Available Device: _DeviceAttributes(/job:worker/replica:0/task:0/device:TPU_SYSTEM:0, TPU_SYSTEM, 0, 0)\n"
          ],
          "name": "stderr"
        },
        {
          "output_type": "stream",
          "text": [
            "INFO:tensorflow:*** Available Device: _DeviceAttributes(/job:worker/replica:0/task:0/device:XLA_CPU:0, XLA_CPU, 0, 0)\n"
          ],
          "name": "stdout"
        },
        {
          "output_type": "stream",
          "text": [
            "INFO:tensorflow:*** Available Device: _DeviceAttributes(/job:worker/replica:0/task:0/device:XLA_CPU:0, XLA_CPU, 0, 0)\n"
          ],
          "name": "stderr"
        }
      ]
    },
    {
      "cell_type": "code",
      "metadata": {
        "id": "VbE1lz5pA7-Z"
      },
      "source": [
        "# !pip install tokenizer\n",
        "# !pip install transformers\n",
        "# !pip install torch"
      ],
      "execution_count": null,
      "outputs": []
    },
    {
      "cell_type": "code",
      "metadata": {
        "id": "6zu3B8khBm1q",
        "outputId": "9ad77027-f275-4249-db43-ac823e8a0fa9",
        "colab": {
          "base_uri": "https://localhost:8080/",
          "height": 122
        }
      },
      "source": [
        "from transformers import AutoTokenizer, TFAutoModelForSequenceClassification\n",
        "import tensorflow as tf\n",
        "\n",
        "tokenizer = AutoTokenizer.from_pretrained(\"bert-base-cased-finetuned-mrpc\")\n",
        "model = TFAutoModelForSequenceClassification.from_pretrained(\"bert-base-cased-finetuned-mrpc\")"
      ],
      "execution_count": null,
      "outputs": [
        {
          "output_type": "stream",
          "text": [
            "Some weights of the model checkpoint at bert-base-cased-finetuned-mrpc were not used when initializing TFBertForSequenceClassification: ['dropout_183']\n",
            "- This IS expected if you are initializing TFBertForSequenceClassification from the checkpoint of a model trained on another task or with another architecture (e.g. initializing a BertForSequenceClassification model from a BertForPretraining model).\n",
            "- This IS NOT expected if you are initializing TFBertForSequenceClassification from the checkpoint of a model that you expect to be exactly identical (initializing a BertForSequenceClassification model from a BertForSequenceClassification model).\n",
            "Some weights of TFBertForSequenceClassification were not initialized from the model checkpoint at bert-base-cased-finetuned-mrpc and are newly initialized: ['dropout_75']\n",
            "You should probably TRAIN this model on a down-stream task to be able to use it for predictions and inference.\n"
          ],
          "name": "stderr"
        }
      ]
    },
    {
      "cell_type": "code",
      "metadata": {
        "id": "f7Rzx0KfBuY0",
        "outputId": "2e374b90-87a0-44ab-80c7-df29fa3cb4d3",
        "colab": {
          "base_uri": "https://localhost:8080/",
          "height": 51
        }
      },
      "source": [
        "classes = [\"Similar\", \"Not Similar\"]\n",
        "\n",
        "sequence_0 = \"Reports that the NSA eavesdropped on world leaders have \\\"severely shaken\\\" relations between Europe and the U.S., German Chancellor Angela Merkel said.\"\n",
        "sequence_1 = \"Germany and France are to seek talks with the US to settle a row over spying, as espionage claims continue to overshadow an EU summit in Brussels.\"\n",
        "\n",
        "demo = tokenizer(sequence_0, sequence_1, return_tensors=\"tf\")\n",
        "demo_logits = model(demo)[0]\n",
        "result = tf.nn.softmax(demo_logits, axis=1).numpy()[0]\n",
        "for i in range(len(classes)):\n",
        "       print(f\"{classes[i]}: {int(round(result[i] * 100))}%\")"
      ],
      "execution_count": null,
      "outputs": [
        {
          "output_type": "stream",
          "text": [
            "Similar: 96%\n",
            "Not Similar: 4%\n"
          ],
          "name": "stdout"
        }
      ]
    },
    {
      "cell_type": "markdown",
      "metadata": {
        "id": "yA95CPXUDD4J"
      },
      "source": [
        "Model 2 Demo: <br>\n",
        "This model is working better then other models."
      ]
    },
    {
      "cell_type": "code",
      "metadata": {
        "id": "BlScIlZnCDCm"
      },
      "source": [
        "# !pip install -U sentence-transformers"
      ],
      "execution_count": null,
      "outputs": []
    },
    {
      "cell_type": "code",
      "metadata": {
        "id": "44wSfxhHC9fD",
        "outputId": "5abdb42e-853d-411d-f30a-f5fdc9223c4f",
        "colab": {
          "base_uri": "https://localhost:8080/",
          "height": 34
        }
      },
      "source": [
        "from sentence_transformers import SentenceTransformer, util\n",
        "import numpy as np\n",
        "\n",
        "embedder = SentenceTransformer('distilbert-base-nli-stsb-mean-tokens')"
      ],
      "execution_count": null,
      "outputs": [
        {
          "output_type": "stream",
          "text": [
            "100%|██████████| 245M/245M [00:14<00:00, 17.4MB/s]\n"
          ],
          "name": "stderr"
        }
      ]
    },
    {
      "cell_type": "code",
      "metadata": {
        "id": "kMykwq3lDI0V",
        "outputId": "0e9b4143-2305-4570-ba44-330b4309e165",
        "colab": {
          "base_uri": "https://localhost:8080/",
          "height": 34
        }
      },
      "source": [
        "sequence_0 = \"Reports that the NSA eavesdropped on world leaders have \\\"severely shaken\\\" relations between Europe and the U.S., German Chancellor Angela Merkel said.\"\n",
        "sequence_1 = \"Germany and France are to seek talks with the US to settle a row over spying, as espionage claims continue to overshadow an EU summit in Brussels.\"\n",
        "\n",
        "sequence_0 = embedder.encode(sequence_0, convert_to_tensor=True)\n",
        "sequence_1 = embedder.encode(sequence_1, convert_to_tensor=True)\n",
        "\n",
        "util.pytorch_cos_sim(sequence_1, sequence_0)[0]"
      ],
      "execution_count": null,
      "outputs": [
        {
          "output_type": "execute_result",
          "data": {
            "text/plain": [
              "tensor([0.5318])"
            ]
          },
          "metadata": {
            "tags": []
          },
          "execution_count": 23
        }
      ]
    },
    {
      "cell_type": "code",
      "metadata": {
        "id": "BSKeq89qDats",
        "outputId": "25d5620b-477b-4d69-bc57-4fbaf6c456db",
        "colab": {
          "base_uri": "https://localhost:8080/",
          "height": 34
        }
      },
      "source": [
        "sequence_0 = \"Sehwag is played for india as per the BCCI\"\n",
        "sequence_1 = \"All nominees for the nobel belongs here.\"\n",
        "\n",
        "sequence_0 = embedder.encode(sequence_0, convert_to_tensor=True)\n",
        "sequence_1 = embedder.encode(sequence_1, convert_to_tensor=True)\n",
        "\n",
        "util.pytorch_cos_sim(sequence_1, sequence_0)[0]"
      ],
      "execution_count": null,
      "outputs": [
        {
          "output_type": "execute_result",
          "data": {
            "text/plain": [
              "tensor([0.0123])"
            ]
          },
          "metadata": {
            "tags": []
          },
          "execution_count": 24
        }
      ]
    },
    {
      "cell_type": "code",
      "metadata": {
        "id": "p2MEs8V3DdBO",
        "outputId": "620ab7b1-39dc-4089-b762-cba22062a79c",
        "colab": {
          "base_uri": "https://localhost:8080/",
          "height": 34
        }
      },
      "source": [
        "sequence_0 = \"Quora is not user friendly so i prefer google because answers are available over there.\"\n",
        "sequence_1 = \"Why do people ask Quora questions which can be answered easily by Google?\"\n",
        "\n",
        "sequence_0 = embedder.encode(sequence_0, convert_to_tensor=True)\n",
        "sequence_1 = embedder.encode(sequence_1, convert_to_tensor=True)\n",
        "\n",
        "util.pytorch_cos_sim(sequence_1, sequence_0)[0]"
      ],
      "execution_count": null,
      "outputs": [
        {
          "output_type": "execute_result",
          "data": {
            "text/plain": [
              "tensor([0.5521])"
            ]
          },
          "metadata": {
            "tags": []
          },
          "execution_count": 25
        }
      ]
    },
    {
      "cell_type": "markdown",
      "metadata": {
        "id": "8vu-qbESD64B"
      },
      "source": [
        "# Architecture built on the top of Transformer built by Hugging face\n"
      ]
    },
    {
      "cell_type": "markdown",
      "metadata": {
        "id": "znBLOml4ETzl"
      },
      "source": [
        "## <stromg> I have tried this model. [here](https://github.com/Pawan300/NLP/tree/master/Text%20similarity/Sentence-pair-classifier)<strong>"
      ]
    },
    {
      "cell_type": "markdown",
      "metadata": {
        "id": "jLzT3ffWbbnz"
      },
      "source": [
        "##Codes I have used in this projects are available here. Please take a visit. <br>\n",
        "Github account : https://github.com/Pawan300/NLP/tree/master/Text%20similarity"
      ]
    },
    {
      "cell_type": "code",
      "metadata": {
        "id": "gP6-c29Ebwkc"
      },
      "source": [
        ""
      ],
      "execution_count": null,
      "outputs": []
    }
  ]
}