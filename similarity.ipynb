{
  "nbformat": 4,
  "nbformat_minor": 0,
  "metadata": {
    "colab": {
      "name": "Precily_assignment.ipynb",
      "provenance": [],
      "collapsed_sections": [],
      "toc_visible": true
    },
    "kernelspec": {
      "name": "python3",
      "display_name": "Python 3"
    }
  },
  "cells": [
    {
      "cell_type": "code",
      "metadata": {
        "id": "OlZE2C2zixSi",
        "colab_type": "code",
        "outputId": "d316b2aa-9082-42ee-d431-f241777e18e7",
        "colab": {
          "base_uri": "https://localhost:8080/",
          "height": 54
        }
      },
      "source": [
        "from google.colab import drive\n",
        "drive.mount('/content/drive')"
      ],
      "execution_count": 0,
      "outputs": [
        {
          "output_type": "stream",
          "text": [
            "Drive already mounted at /content/drive; to attempt to forcibly remount, call drive.mount(\"/content/drive\", force_remount=True).\n"
          ],
          "name": "stdout"
        }
      ]
    },
    {
      "cell_type": "code",
      "metadata": {
        "id": "GQuXJsHyixwx",
        "colab_type": "code",
        "outputId": "bab4710e-269f-43cb-cbd3-4274987fd320",
        "colab": {
          "base_uri": "https://localhost:8080/",
          "height": 122
        }
      },
      "source": [
        "import pandas as pd\n",
        "import numpy as np\n",
        "import re\n",
        "import string\n",
        "import nltk\n",
        "from nltk.corpus import stopwords\n",
        "from scipy import spatial\n",
        "from sklearn.externals import joblib\n",
        "stopword = stopwords.words('english')\n",
        "nltk.download('punkt')"
      ],
      "execution_count": 0,
      "outputs": [
        {
          "output_type": "stream",
          "text": [
            "[nltk_data] Downloading package punkt to /root/nltk_data...\n",
            "[nltk_data]   Package punkt is already up-to-date!\n"
          ],
          "name": "stdout"
        },
        {
          "output_type": "stream",
          "text": [
            "/usr/local/lib/python3.6/dist-packages/sklearn/externals/joblib/__init__.py:15: DeprecationWarning: sklearn.externals.joblib is deprecated in 0.21 and will be removed in 0.23. Please import this functionality directly from joblib, which can be installed with: pip install joblib. If this warning is raised when loading pickled models, you may need to re-serialize those models with scikit-learn 0.21+.\n",
            "  warnings.warn(msg, category=DeprecationWarning)\n"
          ],
          "name": "stderr"
        },
        {
          "output_type": "execute_result",
          "data": {
            "text/plain": [
              "True"
            ]
          },
          "metadata": {
            "tags": []
          },
          "execution_count": 10
        }
      ]
    },
    {
      "cell_type": "code",
      "metadata": {
        "id": "zcI3N5f2j8PH",
        "colab_type": "code",
        "colab": {}
      },
      "source": [
        "data=pd.read_csv(\"/content/drive/My Drive/Colab Notebooks/precily/Text_Similarity_Dataset.csv\")"
      ],
      "execution_count": 0,
      "outputs": []
    },
    {
      "cell_type": "code",
      "metadata": {
        "id": "zOY8Uy4SkGV4",
        "colab_type": "code",
        "outputId": "0c040eb7-7d81-4f34-f375-91498e16619a",
        "colab": {
          "base_uri": "https://localhost:8080/",
          "height": 204
        }
      },
      "source": [
        "data.head()"
      ],
      "execution_count": 0,
      "outputs": [
        {
          "output_type": "execute_result",
          "data": {
            "text/html": [
              "<div>\n",
              "<style scoped>\n",
              "    .dataframe tbody tr th:only-of-type {\n",
              "        vertical-align: middle;\n",
              "    }\n",
              "\n",
              "    .dataframe tbody tr th {\n",
              "        vertical-align: top;\n",
              "    }\n",
              "\n",
              "    .dataframe thead th {\n",
              "        text-align: right;\n",
              "    }\n",
              "</style>\n",
              "<table border=\"1\" class=\"dataframe\">\n",
              "  <thead>\n",
              "    <tr style=\"text-align: right;\">\n",
              "      <th></th>\n",
              "      <th>Unique_ID</th>\n",
              "      <th>text1</th>\n",
              "      <th>text2</th>\n",
              "    </tr>\n",
              "  </thead>\n",
              "  <tbody>\n",
              "    <tr>\n",
              "      <th>0</th>\n",
              "      <td>0</td>\n",
              "      <td>savvy searchers fail to spot ads internet sear...</td>\n",
              "      <td>newcastle 2-1 bolton kieron dyer smashed home ...</td>\n",
              "    </tr>\n",
              "    <tr>\n",
              "      <th>1</th>\n",
              "      <td>1</td>\n",
              "      <td>millions to miss out on the net by 2025  40% o...</td>\n",
              "      <td>nasdaq planning $100m share sale the owner of ...</td>\n",
              "    </tr>\n",
              "    <tr>\n",
              "      <th>2</th>\n",
              "      <td>2</td>\n",
              "      <td>young debut cut short by ginepri fifteen-year-...</td>\n",
              "      <td>ruddock backs yapp s credentials wales coach m...</td>\n",
              "    </tr>\n",
              "    <tr>\n",
              "      <th>3</th>\n",
              "      <td>3</td>\n",
              "      <td>diageo to buy us wine firm diageo  the world s...</td>\n",
              "      <td>mci shares climb on takeover bid shares in us ...</td>\n",
              "    </tr>\n",
              "    <tr>\n",
              "      <th>4</th>\n",
              "      <td>4</td>\n",
              "      <td>be careful how you code a new european directi...</td>\n",
              "      <td>media gadgets get moving pocket-sized devices ...</td>\n",
              "    </tr>\n",
              "  </tbody>\n",
              "</table>\n",
              "</div>"
            ],
            "text/plain": [
              "   Unique_ID  ...                                              text2\n",
              "0          0  ...  newcastle 2-1 bolton kieron dyer smashed home ...\n",
              "1          1  ...  nasdaq planning $100m share sale the owner of ...\n",
              "2          2  ...  ruddock backs yapp s credentials wales coach m...\n",
              "3          3  ...  mci shares climb on takeover bid shares in us ...\n",
              "4          4  ...  media gadgets get moving pocket-sized devices ...\n",
              "\n",
              "[5 rows x 3 columns]"
            ]
          },
          "metadata": {
            "tags": []
          },
          "execution_count": 4
        }
      ]
    },
    {
      "cell_type": "markdown",
      "metadata": {
        "id": "-FMNq4EUriYh",
        "colab_type": "text"
      },
      "source": [
        "# Data Cleaning"
      ]
    },
    {
      "cell_type": "code",
      "metadata": {
        "id": "r1Qa5wj-kHgw",
        "colab_type": "code",
        "colab": {}
      },
      "source": [
        "def clean(col):\n",
        "  data[col]=data[col].map(lambda x:x.lower())\n",
        "  data[col]=data[col].map(lambda x:re.sub(r'\\d+','',x))\n",
        "  data[col]=data[col].map(lambda x:x.translate(str.maketrans('', '', string.punctuation)))\n",
        "  data[col]=data[col].map(lambda x:x.strip())\n",
        "  data[col]=data[col].map(lambda x:nltk.word_tokenize(x))\n",
        "  data[col]=data[col].map(lambda x:' '.join([word for word in x if word not in stopword]))"
      ],
      "execution_count": 0,
      "outputs": []
    },
    {
      "cell_type": "code",
      "metadata": {
        "id": "JmIoScBioxQm",
        "colab_type": "code",
        "colab": {}
      },
      "source": [
        "clean('text1')\n",
        "clean('text2')"
      ],
      "execution_count": 0,
      "outputs": []
    },
    {
      "cell_type": "code",
      "metadata": {
        "id": "W0KrwksFo3Ig",
        "colab_type": "code",
        "outputId": "0028a9ab-7cd7-43a3-d1ab-c43efc166cca",
        "colab": {
          "base_uri": "https://localhost:8080/",
          "height": 204
        }
      },
      "source": [
        "data.head()"
      ],
      "execution_count": 0,
      "outputs": [
        {
          "output_type": "execute_result",
          "data": {
            "text/html": [
              "<div>\n",
              "<style scoped>\n",
              "    .dataframe tbody tr th:only-of-type {\n",
              "        vertical-align: middle;\n",
              "    }\n",
              "\n",
              "    .dataframe tbody tr th {\n",
              "        vertical-align: top;\n",
              "    }\n",
              "\n",
              "    .dataframe thead th {\n",
              "        text-align: right;\n",
              "    }\n",
              "</style>\n",
              "<table border=\"1\" class=\"dataframe\">\n",
              "  <thead>\n",
              "    <tr style=\"text-align: right;\">\n",
              "      <th></th>\n",
              "      <th>Unique_ID</th>\n",
              "      <th>text1</th>\n",
              "      <th>text2</th>\n",
              "    </tr>\n",
              "  </thead>\n",
              "  <tbody>\n",
              "    <tr>\n",
              "      <th>0</th>\n",
              "      <td>0</td>\n",
              "      <td>savvy searchers fail spot ads internet search ...</td>\n",
              "      <td>newcastle bolton kieron dyer smashed home winn...</td>\n",
              "    </tr>\n",
              "    <tr>\n",
              "      <th>1</th>\n",
              "      <td>1</td>\n",
              "      <td>millions miss net uk population still without ...</td>\n",
              "      <td>nasdaq planning share sale owner technologydom...</td>\n",
              "    </tr>\n",
              "    <tr>\n",
              "      <th>2</th>\n",
              "      <td>2</td>\n",
              "      <td>young debut cut short ginepri fifteenyearold d...</td>\n",
              "      <td>ruddock backs yapp credentials wales coach mik...</td>\n",
              "    </tr>\n",
              "    <tr>\n",
              "      <th>3</th>\n",
              "      <td>3</td>\n",
              "      <td>diageo buy us wine firm diageo world biggest s...</td>\n",
              "      <td>mci shares climb takeover bid shares us phone ...</td>\n",
              "    </tr>\n",
              "    <tr>\n",
              "      <th>4</th>\n",
              "      <td>4</td>\n",
              "      <td>careful code new european directive could put ...</td>\n",
              "      <td>media gadgets get moving pocketsized devices l...</td>\n",
              "    </tr>\n",
              "  </tbody>\n",
              "</table>\n",
              "</div>"
            ],
            "text/plain": [
              "   Unique_ID  ...                                              text2\n",
              "0          0  ...  newcastle bolton kieron dyer smashed home winn...\n",
              "1          1  ...  nasdaq planning share sale owner technologydom...\n",
              "2          2  ...  ruddock backs yapp credentials wales coach mik...\n",
              "3          3  ...  mci shares climb takeover bid shares us phone ...\n",
              "4          4  ...  media gadgets get moving pocketsized devices l...\n",
              "\n",
              "[5 rows x 3 columns]"
            ]
          },
          "metadata": {
            "tags": []
          },
          "execution_count": 7
        }
      ]
    },
    {
      "cell_type": "markdown",
      "metadata": {
        "id": "I_xegyjgGqG9",
        "colab_type": "text"
      },
      "source": [
        "## Using Doc2Vec"
      ]
    },
    {
      "cell_type": "code",
      "metadata": {
        "id": "yoGLyoXryZEo",
        "colab_type": "code",
        "colab": {}
      },
      "source": [
        "from gensim.models.doc2vec import Doc2Vec,TaggedDocument"
      ],
      "execution_count": 0,
      "outputs": []
    },
    {
      "cell_type": "code",
      "metadata": {
        "id": "pZIYOsKb5cg_",
        "colab_type": "code",
        "colab": {}
      },
      "source": [
        "d=[]\n",
        "for i in range(data.shape[0]):\n",
        "  d.append(TaggedDocument(data[\"text1\"][i].split(),tags=data['Unique_ID']))\n",
        "  d.append(TaggedDocument(data['text2'][i].split(),tags=data['Unique_ID']))"
      ],
      "execution_count": 0,
      "outputs": []
    },
    {
      "cell_type": "code",
      "metadata": {
        "id": "MQ8TyASc11io",
        "colab_type": "code",
        "outputId": "29d1688d-3c73-4672-9ed8-f7cad35c5aff",
        "colab": {
          "base_uri": "https://localhost:8080/",
          "height": 71
        }
      },
      "source": [
        "max_epochs = 100\n",
        "vec_size = 20\n",
        "alpha = 0.025\n",
        "model = Doc2Vec(size=vec_size,alpha=alpha,min_alpha=0.00025,min_count=1,dm =1)"
      ],
      "execution_count": 0,
      "outputs": [
        {
          "output_type": "stream",
          "text": [
            "/usr/local/lib/python3.6/dist-packages/gensim/models/doc2vec.py:570: UserWarning: The parameter `size` is deprecated, will be removed in 4.0.0, use `vector_size` instead.\n",
            "  warnings.warn(\"The parameter `size` is deprecated, will be removed in 4.0.0, use `vector_size` instead.\")\n"
          ],
          "name": "stderr"
        }
      ]
    },
    {
      "cell_type": "code",
      "metadata": {
        "id": "_m-2thB027b9",
        "colab_type": "code",
        "colab": {}
      },
      "source": [
        "model.build_vocab(d)"
      ],
      "execution_count": 0,
      "outputs": []
    },
    {
      "cell_type": "code",
      "metadata": {
        "id": "g2JKPPsr2_ss",
        "colab_type": "code",
        "outputId": "878bcd8c-dfb1-4aac-c799-dcf109f4b97e",
        "colab": {
          "base_uri": "https://localhost:8080/",
          "height": 241
        }
      },
      "source": [
        "for epoch in range(10):\n",
        "    model.train(d,epochs=model.iter,total_examples=model.corpus_count)\n",
        "    print(\"Epoch #{} is complete.\".format(epoch+1))"
      ],
      "execution_count": 0,
      "outputs": [
        {
          "output_type": "stream",
          "text": [
            "/usr/local/lib/python3.6/dist-packages/ipykernel_launcher.py:2: DeprecationWarning: Call to deprecated `iter` (Attribute will be removed in 4.0.0, use self.epochs instead).\n",
            "  \n"
          ],
          "name": "stderr"
        },
        {
          "output_type": "stream",
          "text": [
            "Epoch #1 is complete.\n",
            "Epoch #2 is complete.\n",
            "Epoch #3 is complete.\n",
            "Epoch #4 is complete.\n",
            "Epoch #5 is complete.\n",
            "Epoch #6 is complete.\n",
            "Epoch #7 is complete.\n",
            "Epoch #8 is complete.\n",
            "Epoch #9 is complete.\n",
            "Epoch #10 is complete.\n"
          ],
          "name": "stdout"
        }
      ]
    },
    {
      "cell_type": "markdown",
      "metadata": {
        "id": "RfDghzspGzOS",
        "colab_type": "text"
      },
      "source": [
        "# Storing Model"
      ]
    },
    {
      "cell_type": "code",
      "metadata": {
        "id": "YLOlufbT-2FM",
        "colab_type": "code",
        "outputId": "6c260d95-08f2-49d5-ee1b-a0dee80733f1",
        "colab": {
          "base_uri": "https://localhost:8080/",
          "height": 88
        }
      },
      "source": [
        "#filename=\"/content/drive/My Drive/Colab Notebooks/precily/model.sav\"\n",
        "joblib.dump(model, filename)"
      ],
      "execution_count": 0,
      "outputs": [
        {
          "output_type": "stream",
          "text": [
            "/usr/local/lib/python3.6/dist-packages/sklearn/externals/joblib/__init__.py:15: DeprecationWarning: sklearn.externals.joblib is deprecated in 0.21 and will be removed in 0.23. Please import this functionality directly from joblib, which can be installed with: pip install joblib. If this warning is raised when loading pickled models, you may need to re-serialize those models with scikit-learn 0.21+.\n",
            "  warnings.warn(msg, category=DeprecationWarning)\n"
          ],
          "name": "stderr"
        },
        {
          "output_type": "execute_result",
          "data": {
            "text/plain": [
              "['/content/drive/My Drive/Colab Notebooks/precily/model.sav']"
            ]
          },
          "metadata": {
            "tags": []
          },
          "execution_count": 20
        }
      ]
    },
    {
      "cell_type": "code",
      "metadata": {
        "id": "LItQAoIbEmmS",
        "colab_type": "code",
        "colab": {}
      },
      "source": [
        "model1=joblib.load(\"/content/drive/My Drive/Colab Notebooks/precily/model.sav\")"
      ],
      "execution_count": 0,
      "outputs": []
    },
    {
      "cell_type": "code",
      "metadata": {
        "id": "HnRo63CjJXJh",
        "colab_type": "code",
        "outputId": "38e5eae6-81de-46a9-c339-7ece98f9f58d",
        "colab": {
          "base_uri": "https://localhost:8080/",
          "height": 275
        }
      },
      "source": [
        "model1.most_similar(\"firm\")"
      ],
      "execution_count": 0,
      "outputs": [
        {
          "output_type": "stream",
          "text": [
            "/usr/local/lib/python3.6/dist-packages/ipykernel_launcher.py:1: DeprecationWarning: Call to deprecated `most_similar` (Method will be removed in 4.0.0, use self.wv.most_similar() instead).\n",
            "  \"\"\"Entry point for launching an IPython kernel.\n",
            "/usr/local/lib/python3.6/dist-packages/gensim/matutils.py:737: FutureWarning: Conversion of the second argument of issubdtype from `int` to `np.signedinteger` is deprecated. In future, it will be treated as `np.int64 == np.dtype(int).type`.\n",
            "  if np.issubdtype(vec.dtype, np.int):\n"
          ],
          "name": "stderr"
        },
        {
          "output_type": "execute_result",
          "data": {
            "text/plain": [
              "[('buy', 0.9624813199043274),\n",
              " ('buyer', 0.9541382789611816),\n",
              " ('telecoms', 0.9523208141326904),\n",
              " ('sina', 0.9468142986297607),\n",
              " ('giant', 0.9437302350997925),\n",
              " ('purchase', 0.9434924125671387),\n",
              " ('company', 0.9430593252182007),\n",
              " ('ownership', 0.9392997622489929),\n",
              " ('remittance', 0.9391176104545593),\n",
              " ('disposal', 0.933521032333374)]"
            ]
          },
          "metadata": {
            "tags": []
          },
          "execution_count": 12
        }
      ]
    },
    {
      "cell_type": "code",
      "metadata": {
        "id": "h0BC9UztR-VZ",
        "colab_type": "code",
        "colab": {}
      },
      "source": [
        "score=[]\n",
        "for i in range(data.shape[0]):\n",
        "  vec1=model1.infer_vector(data['text1'][i])\n",
        "  vec2=model1.infer_vector(data['text2'][i])\n",
        "  score.append(spatial.distance.cosine(vec1,vec2))"
      ],
      "execution_count": 0,
      "outputs": []
    },
    {
      "cell_type": "code",
      "metadata": {
        "id": "tZtmt5XgUQGk",
        "colab_type": "code",
        "colab": {}
      },
      "source": [
        "df=pd.DataFrame(score,data['Unique_ID'],columns=['Similarity_Score'])\n",
        "df.to_csv(\"/content/drive/My Drive/Colab Notebooks/precily/result.txt\")"
      ],
      "execution_count": 0,
      "outputs": []
    },
    {
      "cell_type": "markdown",
      "metadata": {
        "id": "PPhkqxn3G3LR",
        "colab_type": "text"
      },
      "source": [
        "# Using Tf-Idf"
      ]
    },
    {
      "cell_type": "code",
      "metadata": {
        "id": "fbX9S8tLFCRI",
        "colab_type": "code",
        "colab": {}
      },
      "source": [
        "from sklearn.feature_extraction.text import TfidfVectorizer"
      ],
      "execution_count": 0,
      "outputs": []
    },
    {
      "cell_type": "code",
      "metadata": {
        "id": "HS4SRS-zGBUN",
        "colab_type": "code",
        "colab": {}
      },
      "source": [
        "vectorizer = TfidfVectorizer(ngram_range=(1,1))\n",
        "X = vectorizer.fit_transform(data[\"text1\"])\n",
        "X_test=vectorizer.transform(data['text2'])"
      ],
      "execution_count": 0,
      "outputs": []
    },
    {
      "cell_type": "code",
      "metadata": {
        "id": "NffkHXRkG_tQ",
        "colab_type": "code",
        "colab": {}
      },
      "source": [
        "res=X.dot(X_test.T)\n",
        "r=res.todense()\n",
        "l=[]\n",
        "for i in range(res.shape[0]):\n",
        "  l.append(r[i,i])"
      ],
      "execution_count": 0,
      "outputs": []
    },
    {
      "cell_type": "code",
      "metadata": {
        "id": "nmPBX1F9HBVE",
        "colab_type": "code",
        "colab": {}
      },
      "source": [
        "df=pd.DataFrame(l,data['Unique_ID'],columns=['Similarity_Score'])\n",
        "df.to_csv(\"/content/drive/My Drive/Colab Notebooks/precily/result.txt\")"
      ],
      "execution_count": 0,
      "outputs": []
    },
    {
      "cell_type": "code",
      "metadata": {
        "id": "CtW0rJS3JDWZ",
        "colab_type": "code",
        "colab": {}
      },
      "source": [
        ""
      ],
      "execution_count": 0,
      "outputs": []
    }
  ]
}
