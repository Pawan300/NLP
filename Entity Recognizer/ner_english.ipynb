{
  "nbformat": 4,
  "nbformat_minor": 0,
  "metadata": {
    "colab": {
      "name": "demo.ipynb",
      "provenance": []
    },
    "kernelspec": {
      "name": "python3",
      "display_name": "Python 3"
    },
    "language_info": {
      "name": "python"
    }
  },
  "cells": [
    {
      "cell_type": "code",
      "metadata": {
        "id": "WXnScR41opxU"
      },
      "source": [
        "import pandas as pd"
      ],
      "execution_count": 199,
      "outputs": []
    },
    {
      "cell_type": "code",
      "metadata": {
        "id": "NdQS3l7Stord"
      },
      "source": [
        "data = pd.read_csv(\"/content/drive/MyDrive/Colab Notebooks/NLP/data_ner.csv\")"
      ],
      "execution_count": 200,
      "outputs": []
    },
    {
      "cell_type": "code",
      "metadata": {
        "id": "_QPRGRNZtqkL"
      },
      "source": [
        "data = data.iloc[:-1]"
      ],
      "execution_count": 201,
      "outputs": []
    },
    {
      "cell_type": "code",
      "metadata": {
        "id": "1j5b5aoptrgn"
      },
      "source": [
        "fact= {\n",
        "'O' : \"Outside\", \n",
        "'B-geo' : \"Geographical Entity\",\n",
        "'B-gpe' : \"Geopolitical Entity\", \n",
        "'B-per' : \"PERSON\",\n",
        "'I-geo' : \"Geographical Entity\",                  # B- Begining \n",
        "'B-org' : \"ORGANIZATION\",                         # I - Inside\n",
        "'I-org' : \"ORGANIZATION\", \n",
        "'B-tim' : \"TIME\",\n",
        "'B-art' : \"Artifact\", \n",
        "'I-art' : \"Artifact\", \n",
        "'I-per' : \"PERSON\", \n",
        "'I-gpe' : \"Geopolitical Entity\", \n",
        "'I-tim' : \"TIME\", \n",
        "'B-nat' : \"Natural Phenomenon\", \n",
        "'B-eve' : \"Event\",\n",
        "'I-eve' : \"Event\",\n",
        "'I-nat' : \"Natural Phenomenon\"\n",
        " }"
      ],
      "execution_count": 202,
      "outputs": []
    },
    {
      "cell_type": "code",
      "metadata": {
        "colab": {
          "base_uri": "https://localhost:8080/"
        },
        "id": "biH1iHn8kgZB",
        "outputId": "b107d561-9d91-4b91-f5a1-1d0bb270231f"
      },
      "source": [
        "data.groupby(by=\"Tag\")[\"Word\"].agg(lambda x: list(x))"
      ],
      "execution_count": 203,
      "outputs": [
        {
          "output_type": "execute_result",
          "data": {
            "text/plain": [
              "Tag\n",
              "B-art    [Nuclear, Saltillo, Pentastar, Chrysler, Dodge...\n",
              "B-eve    [2012, Games, Games, 2008, Operation, Gulf, Au...\n",
              "B-geo    [London, Iraq, Hyde, Britain, Brighton, Iraq, ...\n",
              "B-gpe    [British, English, Britain, British, Iran, Ira...\n",
              "B-nat    [H5N1, H5N1, Jing, Jing, H5N1, SARS, Severe, H...\n",
              "B-org    [Labor, International, IAEA, European, U.N., B...\n",
              "B-per    [Bush, President, Thomas, President, Prophet, ...\n",
              "B-tim    [Wednesday, Wednesday, Tuesday, Wednesday, Wed...\n",
              "I-art    [Non-Proliferation, V-6, Simple, Life, Morning...\n",
              "I-eve    [Summer, Olympics, Olympic, Medusa, War, Open,...\n",
              "I-geo    [Park, State, State, Delta, Arab, West, Fronti...\n",
              "I-gpe    [States, Korea, Binh, Ababa, City, Lanka, Kore...\n",
              "I-nat    [Jing, Jing, Acute, Respiratory, Syndrome, Kat...\n",
              "I-org    [Party, Atomic, Energy, Agency, Union, Securit...\n",
              "I-per    [Mahmoud, Ahmadinejad, Horbach, Abdullahi, Yus...\n",
              "I-tim    [8, 1, 2, 3, of, 2005, 25, ,, 1995, 7, 17, 200...\n",
              "O        [Thousands, of, demonstrators, have, marched, ...\n",
              "Name: Word, dtype: object"
            ]
          },
          "metadata": {
            "tags": []
          },
          "execution_count": 203
        }
      ]
    },
    {
      "cell_type": "code",
      "metadata": {
        "id": "t_AYvI_Jug8q"
      },
      "source": [
        "from itertools import chain\n",
        "def get_dict_map(data, token_or_tag):\n",
        "    tok2idx = {}\n",
        "    idx2tok = {}\n",
        "    \n",
        "    if token_or_tag == 'token':\n",
        "        vocab = list(set(data['Word'].to_list()))\n",
        "    else:\n",
        "        vocab = list(set(data['Tag'].to_list()))\n",
        "    \n",
        "    idx2tok = {idx:tok for  idx, tok in enumerate(vocab)}\n",
        "    tok2idx = {tok:idx for  idx, tok in enumerate(vocab)}\n",
        "    return tok2idx, idx2tok\n",
        "token2idx, idx2token = get_dict_map(data, 'token')\n",
        "tag2idx, idx2tag = get_dict_map(data, 'tag')"
      ],
      "execution_count": 204,
      "outputs": []
    },
    {
      "cell_type": "code",
      "metadata": {
        "colab": {
          "base_uri": "https://localhost:8080/"
        },
        "id": "CchI5ZIQvax5",
        "outputId": "7a1ef943-0298-459c-94e8-c2b1b4d75d02"
      },
      "source": [
        "data['Word_idx'] = data['Word'].map(token2idx)\n",
        "data['Tag_idx'] = data['Tag'].map(tag2idx)\n",
        "data_fillna = data.fillna(method='ffill', axis=0)\n",
        "# Groupby and collect columns\n",
        "data_group = data_fillna.groupby(\n",
        "['Sentence #'],as_index=False\n",
        ")['Word', 'POS', 'Tag', 'Word_idx', 'Tag_idx'].agg(lambda x: list(x))"
      ],
      "execution_count": 205,
      "outputs": [
        {
          "output_type": "stream",
          "text": [
            "/usr/local/lib/python3.7/dist-packages/ipykernel_launcher.py:7: FutureWarning: Indexing with multiple keys (implicitly converted to a tuple of keys) will be deprecated, use a list instead.\n",
            "  import sys\n"
          ],
          "name": "stderr"
        }
      ]
    },
    {
      "cell_type": "code",
      "metadata": {
        "colab": {
          "base_uri": "https://localhost:8080/"
        },
        "id": "29YUKcdbvdKX",
        "outputId": "101053f9-11ba-4366-dbbf-df1bacc24f2f"
      },
      "source": [
        "from sklearn.model_selection import train_test_split\n",
        "from keras.preprocessing.sequence import pad_sequences\n",
        "from keras.utils import to_categorical\n",
        "\n",
        "def get_pad_train_test_val(data_group, data):\n",
        "\n",
        "    #get max token and tag length\n",
        "    n_token = len(list(set(data['Word'].to_list())))\n",
        "    n_tag = len(list(set(data['Tag'].to_list())))\n",
        "\n",
        "    #Pad tokens (X var)    \n",
        "    tokens = data_group['Word_idx'].tolist()\n",
        "    maxlen = max([len(s) for s in tokens])\n",
        "    pad_tokens = pad_sequences(tokens, maxlen=maxlen, dtype='int32', padding='post', value= n_token - 1)\n",
        "\n",
        "    #Pad Tags (y var) and convert it into one hot encoding\n",
        "    tags = data_group['Tag_idx'].tolist()\n",
        "    pad_tags = pad_sequences(tags, maxlen=maxlen, dtype='int32', padding='post', value= tag2idx[\"O\"])\n",
        "    n_tags = len(tag2idx)\n",
        "    pad_tags = [to_categorical(i, num_classes=n_tags) for i in pad_tags]\n",
        "    \n",
        "    #Split train, test and validation set\n",
        "    tokens_, test_tokens, tags_, test_tags = train_test_split(pad_tokens, pad_tags, test_size=0.1, train_size=0.9, random_state=2020)\n",
        "    train_tokens, val_tokens, train_tags, val_tags = train_test_split(tokens_,tags_,test_size = 0.25,train_size =0.75, random_state=2020)\n",
        "\n",
        "    print(\n",
        "        'train_tokens length:', len(train_tokens),\n",
        "        '\\ntrain_tokens length:', len(train_tokens),\n",
        "        '\\ntest_tokens length:', len(test_tokens),\n",
        "        '\\ntest_tags:', len(test_tags),\n",
        "        '\\nval_tokens:', len(val_tokens),\n",
        "        '\\nval_tags:', len(val_tags),\n",
        "    )\n",
        "    \n",
        "    return train_tokens, val_tokens, test_tokens, train_tags, val_tags, test_tags\n",
        "\n",
        "train_tokens, val_tokens, test_tokens, train_tags, val_tags, test_tags = get_pad_train_test_val(data_group, data)"
      ],
      "execution_count": 206,
      "outputs": [
        {
          "output_type": "stream",
          "text": [
            "train_tokens length: 1176 \n",
            "train_tokens length: 1176 \n",
            "test_tokens length: 175 \n",
            "test_tags: 175 \n",
            "val_tokens: 393 \n",
            "val_tags: 393\n"
          ],
          "name": "stdout"
        }
      ]
    },
    {
      "cell_type": "code",
      "metadata": {
        "id": "tafjB-O8vi9A"
      },
      "source": [
        "import numpy as np\n",
        "import tensorflow\n",
        "from tensorflow.keras import Sequential, Model, Input\n",
        "from tensorflow.keras.layers import LSTM, Embedding, Dense, TimeDistributed, Dropout, Bidirectional\n",
        "from tensorflow.keras.utils import plot_model\n",
        "from numpy.random import seed\n",
        "seed(1)\n",
        "tensorflow.random.set_seed(2)"
      ],
      "execution_count": 207,
      "outputs": []
    },
    {
      "cell_type": "code",
      "metadata": {
        "id": "K9cNtTzTvmiI"
      },
      "source": [
        "input_dim = len(list(set(data['Word'].to_list())))+1\n",
        "output_dim = 64\n",
        "input_length = max([len(s) for s in data_group['Word_idx'].tolist()])\n",
        "n_tags = len(tag2idx)"
      ],
      "execution_count": 208,
      "outputs": []
    },
    {
      "cell_type": "code",
      "metadata": {
        "id": "jXqf4waRvpA8"
      },
      "source": [
        "def get_bilstm_lstm_model():\n",
        "    model = Sequential()\n",
        "\n",
        "    # Add Embedding layer\n",
        "    model.add(Embedding(input_dim=input_dim, output_dim=output_dim, input_length=input_length))\n",
        "\n",
        "    # Add bidirectional LSTM\n",
        "    model.add(Bidirectional(LSTM(units=output_dim, return_sequences=True, dropout=0.2, recurrent_dropout=0.2), merge_mode = 'concat'))\n",
        "\n",
        "    # Add LSTM\n",
        "    model.add(LSTM(units=output_dim, return_sequences=True, dropout=0.5, recurrent_dropout=0.5))\n",
        "\n",
        "    # Add timeDistributed Layer\n",
        "    model.add(TimeDistributed(Dense(n_tags, activation=\"softmax\")))\n",
        "\n",
        "    #Optimiser \n",
        "    # adam = k.optimizers.Adam(lr=0.0005, beta_1=0.9, beta_2=0.999)\n",
        "\n",
        "    # Compile model\n",
        "    model.compile(loss='categorical_crossentropy', optimizer='adam', metrics=['accuracy'])\n",
        "    model.summary()\n",
        "    \n",
        "    return model"
      ],
      "execution_count": 110,
      "outputs": []
    },
    {
      "cell_type": "code",
      "metadata": {
        "id": "uZcMBPoCvrPA"
      },
      "source": [
        "def train_model(X, y, model):\n",
        "    loss = list()\n",
        "    for i in range(30):\n",
        "        # fit model for one epoch on this sequence\n",
        "        hist = model.fit(X, y, batch_size=64, verbose=1, epochs=1, validation_split=0.2)\n",
        "        loss.append(hist.history['loss'][0])\n",
        "    return loss"
      ],
      "execution_count": 111,
      "outputs": []
    },
    {
      "cell_type": "code",
      "metadata": {
        "colab": {
          "base_uri": "https://localhost:8080/"
        },
        "id": "xQB8LWSVvtS6",
        "outputId": "852bb2d3-6718-4227-c19e-f923313f0614"
      },
      "source": [
        "results = pd.DataFrame()\n",
        "model_bilstm_lstm = get_bilstm_lstm_model()\n",
        "plot_model(model_bilstm_lstm)\n",
        "results['with_add_lstm'] = train_model(train_tokens, np.array(train_tags), model_bilstm_lstm)"
      ],
      "execution_count": 112,
      "outputs": [
        {
          "output_type": "stream",
          "text": [
            "Model: \"sequential_4\"\n",
            "_________________________________________________________________\n",
            "Layer (type)                 Output Shape              Param #   \n",
            "=================================================================\n",
            "embedding_4 (Embedding)      (None, 62, 64)            412800    \n",
            "_________________________________________________________________\n",
            "bidirectional_4 (Bidirection (None, 62, 128)           66048     \n",
            "_________________________________________________________________\n",
            "lstm_9 (LSTM)                (None, 62, 64)            49408     \n",
            "_________________________________________________________________\n",
            "time_distributed_4 (TimeDist (None, 62, 17)            1105      \n",
            "=================================================================\n",
            "Total params: 529,361\n",
            "Trainable params: 529,361\n",
            "Non-trainable params: 0\n",
            "_________________________________________________________________\n",
            "15/15 [==============================] - 15s 435ms/step - loss: 2.4981 - accuracy: 0.7239 - val_loss: 0.3741 - val_accuracy: 0.9487\n",
            "15/15 [==============================] - 6s 383ms/step - loss: 0.3672 - accuracy: 0.9472 - val_loss: 0.3505 - val_accuracy: 0.9487\n",
            "15/15 [==============================] - 6s 384ms/step - loss: 0.3290 - accuracy: 0.9472 - val_loss: 0.3045 - val_accuracy: 0.9487\n",
            "15/15 [==============================] - 6s 386ms/step - loss: 0.3049 - accuracy: 0.9472 - val_loss: 0.2869 - val_accuracy: 0.9487\n",
            "15/15 [==============================] - 6s 382ms/step - loss: 0.2877 - accuracy: 0.9472 - val_loss: 0.2733 - val_accuracy: 0.9487\n",
            "15/15 [==============================] - 6s 384ms/step - loss: 0.2777 - accuracy: 0.9472 - val_loss: 0.2660 - val_accuracy: 0.9487\n",
            "15/15 [==============================] - 6s 383ms/step - loss: 0.2697 - accuracy: 0.9472 - val_loss: 0.2612 - val_accuracy: 0.9487\n",
            "15/15 [==============================] - 6s 385ms/step - loss: 0.2633 - accuracy: 0.9472 - val_loss: 0.2576 - val_accuracy: 0.9487\n",
            "15/15 [==============================] - 6s 383ms/step - loss: 0.2579 - accuracy: 0.9472 - val_loss: 0.2551 - val_accuracy: 0.9487\n",
            "15/15 [==============================] - 6s 381ms/step - loss: 0.2523 - accuracy: 0.9472 - val_loss: 0.2518 - val_accuracy: 0.9487\n",
            "15/15 [==============================] - 6s 380ms/step - loss: 0.2470 - accuracy: 0.9472 - val_loss: 0.2501 - val_accuracy: 0.9487\n",
            "15/15 [==============================] - 6s 386ms/step - loss: 0.2412 - accuracy: 0.9472 - val_loss: 0.2537 - val_accuracy: 0.9487\n",
            "15/15 [==============================] - 6s 384ms/step - loss: 0.2356 - accuracy: 0.9472 - val_loss: 0.2551 - val_accuracy: 0.9487\n",
            "15/15 [==============================] - 6s 384ms/step - loss: 0.2287 - accuracy: 0.9472 - val_loss: 0.2401 - val_accuracy: 0.9487\n",
            "15/15 [==============================] - 6s 385ms/step - loss: 0.2223 - accuracy: 0.9472 - val_loss: 0.2232 - val_accuracy: 0.9487\n",
            "15/15 [==============================] - 6s 380ms/step - loss: 0.2126 - accuracy: 0.9472 - val_loss: 0.2112 - val_accuracy: 0.9487\n",
            "15/15 [==============================] - 6s 385ms/step - loss: 0.1992 - accuracy: 0.9472 - val_loss: 0.2003 - val_accuracy: 0.9487\n",
            "15/15 [==============================] - 6s 384ms/step - loss: 0.1832 - accuracy: 0.9473 - val_loss: 0.1893 - val_accuracy: 0.9490\n",
            "15/15 [==============================] - 6s 386ms/step - loss: 0.1661 - accuracy: 0.9485 - val_loss: 0.1833 - val_accuracy: 0.9511\n",
            "15/15 [==============================] - 6s 383ms/step - loss: 0.1506 - accuracy: 0.9523 - val_loss: 0.1767 - val_accuracy: 0.9541\n",
            "15/15 [==============================] - 6s 386ms/step - loss: 0.1388 - accuracy: 0.9563 - val_loss: 0.1733 - val_accuracy: 0.9556\n",
            "15/15 [==============================] - 6s 382ms/step - loss: 0.1314 - accuracy: 0.9588 - val_loss: 0.1746 - val_accuracy: 0.9560\n",
            "15/15 [==============================] - 6s 385ms/step - loss: 0.1255 - accuracy: 0.9608 - val_loss: 0.1737 - val_accuracy: 0.9566\n",
            "15/15 [==============================] - 6s 386ms/step - loss: 0.1213 - accuracy: 0.9621 - val_loss: 0.1723 - val_accuracy: 0.9574\n",
            "15/15 [==============================] - 6s 383ms/step - loss: 0.1181 - accuracy: 0.9628 - val_loss: 0.1664 - val_accuracy: 0.9569\n",
            "15/15 [==============================] - 6s 384ms/step - loss: 0.1153 - accuracy: 0.9637 - val_loss: 0.1618 - val_accuracy: 0.9582\n",
            "15/15 [==============================] - 6s 386ms/step - loss: 0.1127 - accuracy: 0.9639 - val_loss: 0.1608 - val_accuracy: 0.9580\n",
            "15/15 [==============================] - 6s 388ms/step - loss: 0.1103 - accuracy: 0.9639 - val_loss: 0.1602 - val_accuracy: 0.9578\n",
            "15/15 [==============================] - 6s 385ms/step - loss: 0.1082 - accuracy: 0.9641 - val_loss: 0.1637 - val_accuracy: 0.9582\n",
            "15/15 [==============================] - 6s 389ms/step - loss: 0.1055 - accuracy: 0.9648 - val_loss: 0.1656 - val_accuracy: 0.9578\n"
          ],
          "name": "stdout"
        }
      ]
    },
    {
      "cell_type": "code",
      "metadata": {
        "id": "EOcgdy80vvkU"
      },
      "source": [
        ""
      ],
      "execution_count": 145,
      "outputs": []
    },
    {
      "cell_type": "code",
      "metadata": {
        "colab": {
          "base_uri": "https://localhost:8080/"
        },
        "id": "RSJM6leKM7As",
        "outputId": "4ca19b31-8922-4db0-80ad-1cf02825f14b"
      },
      "source": [
        "import nltk\n",
        "nltk.download('punkt')"
      ],
      "execution_count": 114,
      "outputs": [
        {
          "output_type": "stream",
          "text": [
            "[nltk_data] Downloading package punkt to /root/nltk_data...\n",
            "[nltk_data]   Package punkt is already up-to-date!\n"
          ],
          "name": "stdout"
        },
        {
          "output_type": "execute_result",
          "data": {
            "text/plain": [
              "True"
            ]
          },
          "metadata": {
            "tags": []
          },
          "execution_count": 114
        }
      ]
    },
    {
      "cell_type": "code",
      "metadata": {
        "id": "OiQC_UpCxYE1",
        "colab": {
          "base_uri": "https://localhost:8080/"
        },
        "outputId": "3ed09868-49fb-4aab-d6d7-f39e1b6b1ef1"
      },
      "source": [
        "testing = 'John Lee is the chief of CBSE.'\n",
        "testing = nltk.word_tokenize(testing)\n",
        "for i in range(len(testing)):\n",
        "  try : \n",
        "    testing[i] = token2idx[testing[i]]\n",
        "  except :\n",
        "    testing[i] = len(token2idx)-1\n",
        "\n",
        "a = pad_sequences([testing], maxlen=62, dtype='int32', padding='post', value= 6448)\n",
        "\n",
        "prediction = model_bilstm_lstm.predict(a)\n",
        "pred = tensorflow.argmax(prediction, 2)\n",
        "for i in range(len(pred.numpy()[0])):\n",
        "  if a[0][i] != len(token2idx)-1:\n",
        "    print(idx2token[a[0][i]], idx2tag[pred.numpy()[0][i]])"
      ],
      "execution_count": 196,
      "outputs": [
        {
          "output_type": "stream",
          "text": [
            "John B-per\n",
            "Lee I-per\n",
            "is O\n",
            "the O\n",
            "chief O\n",
            "of O\n",
            ". O\n"
          ],
          "name": "stdout"
        }
      ]
    },
    {
      "cell_type": "code",
      "metadata": {
        "colab": {
          "base_uri": "https://localhost:8080/",
          "height": 51
        },
        "id": "xnioVumnYNw9",
        "outputId": "bd788d8f-10a6-4e78-995a-4298388c9b26"
      },
      "source": [
        "import spacy\n",
        "from spacy import displacy\n",
        "nlp = spacy.load('en_core_web_sm')\n",
        "text = nlp('John Lee is the chief of CBSE.')\n",
        "displacy.render(text, style = 'ent', jupyter=True)"
      ],
      "execution_count": 197,
      "outputs": [
        {
          "output_type": "display_data",
          "data": {
            "text/html": [
              "<span class=\"tex2jax_ignore\"><div class=\"entities\" style=\"line-height: 2.5; direction: ltr\">\n",
              "<mark class=\"entity\" style=\"background: #aa9cfc; padding: 0.45em 0.6em; margin: 0 0.25em; line-height: 1; border-radius: 0.35em;\">\n",
              "    John Lee\n",
              "    <span style=\"font-size: 0.8em; font-weight: bold; line-height: 1; border-radius: 0.35em; text-transform: uppercase; vertical-align: middle; margin-left: 0.5rem\">PERSON</span>\n",
              "</mark>\n",
              " is the chief of \n",
              "<mark class=\"entity\" style=\"background: #7aecec; padding: 0.45em 0.6em; margin: 0 0.25em; line-height: 1; border-radius: 0.35em;\">\n",
              "    CBSE\n",
              "    <span style=\"font-size: 0.8em; font-weight: bold; line-height: 1; border-radius: 0.35em; text-transform: uppercase; vertical-align: middle; margin-left: 0.5rem\">ORG</span>\n",
              "</mark>\n",
              ".</div></span>"
            ],
            "text/plain": [
              "<IPython.core.display.HTML object>"
            ]
          },
          "metadata": {
            "tags": []
          }
        }
      ]
    },
    {
      "cell_type": "code",
      "metadata": {
        "id": "Ww4iaNg0aMkJ"
      },
      "source": [
        ""
      ],
      "execution_count": null,
      "outputs": []
    }
  ]
}